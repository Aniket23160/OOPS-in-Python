{
  "nbformat": 4,
  "nbformat_minor": 0,
  "metadata": {
    "colab": {
      "name": "OOPS",
      "provenance": [],
      "authorship_tag": "ABX9TyOYK64gqnQDFEC+qR4a0tq+",
      "include_colab_link": true
    },
    "kernelspec": {
      "name": "python3",
      "display_name": "Python 3"
    },
    "language_info": {
      "name": "python"
    }
  },
  "cells": [
    {
      "cell_type": "markdown",
      "metadata": {
        "id": "view-in-github",
        "colab_type": "text"
      },
      "source": [
        "<a href=\"https://colab.research.google.com/github/Aniket23160/OOPS-in-Python/blob/main/OOPS.ipynb\" target=\"_parent\"><img src=\"https://colab.research.google.com/assets/colab-badge.svg\" alt=\"Open In Colab\"/></a>"
      ]
    },
    {
      "cell_type": "markdown",
      "metadata": {
        "id": "5STAcAAfvkd-"
      },
      "source": [
        "Creating First Class"
      ]
    },
    {
      "cell_type": "code",
      "metadata": {
        "colab": {
          "base_uri": "https://localhost:8080/"
        },
        "id": "BQoLvRM6vjt1",
        "outputId": "5f1ec372-6011-449f-c9db-ffb443ba0571"
      },
      "source": [
        "class Student:\n",
        "    pass\n",
        "\n",
        "ani=Student()\n",
        "aka=Student()\n",
        "\n",
        "ani.name=\"Aniket\"\n",
        "ani.std=\"B.Tech\"\n",
        "ani.department=\"Electrical\"\n",
        "\n",
        "aka.std=\"Undergraduate\"\n",
        "aka.subjects=[\"Hindi\",\"Physics\"]\n",
        "\n",
        "print(ani.name,aka.subjects)\n",
        "print(ani.std,aka.std)"
      ],
      "execution_count": 2,
      "outputs": [
        {
          "output_type": "stream",
          "text": [
            "Aniket ['Hindi', 'Physics']\n",
            "B.Tech Undergraduate\n"
          ],
          "name": "stdout"
        }
      ]
    },
    {
      "cell_type": "code",
      "metadata": {
        "id": "q99CSKZOwapB"
      },
      "source": [
        ""
      ],
      "execution_count": null,
      "outputs": []
    }
  ]
}